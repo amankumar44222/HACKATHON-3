{
 "cells": [
  {
   "cell_type": "code",
   "execution_count": 3,
   "metadata": {},
   "outputs": [],
   "source": [
    "import xlrd\n",
    "impor os\n",
    "import matplotlib.pyplot as plt\n",
    "import numpy as np"
   ]
  },
  {
   "cell_type": "code",
   "execution_count": 6,
   "metadata": {},
   "outputs": [
    {
     "name": "stdout",
     "output_type": "stream",
     "text": [
      "Hello! Do you want to known which state in USA will be right to  study in this corona infected condition\n",
      "Than you are in perfect place\n",
      "Here you will know about the detail of deaths in states of USA\n",
      "These are the states where you must be likeing to to study\n",
      "['STATES', '[1]NEW  YORK', '[2]NEW JERSEY', '[3]MICHIGAN', '[4]MASSACHUSETTS', '[5]PENNSYLVANIA', '[6]LLLINOIS', '[7]CONNECTICUT', '[8]LOUISIANA', '[9]CALIFORNIA', '[10]FLORIDA', '[11]GEORGIA', '[12]WASHINGTON', '[13]MARYLAND', '[14]INDIANA', '[15]OHIO', '[16]TEXAS', '[17]COLORADO', '[18]VIRGINIA', '[19]WISCONSIN', '[20]NORTH CAROLINA', '[21]MISSOURI', '[22]ARIZONA', '[23]ALABAMA', '[24]MISSISSIPPI', '[25]RHODE ISLAND', '[26]KENTUCKY', '[27]OKLAHOMA', '[28]NEVADA', '[29]MINNESOTA', '[30]TENNESSEE']\n",
      "Enter the number which has been assigned to the state where you want to study4\n",
      "These are the details of deaths of the selected state\n",
      "Deaths in 0-15 years age gaps are 1.0\n",
      "Deaths in 15-25 years age gaps are 111.0\n",
      "Deaths in 25-35 years age gaps are 106.0\n",
      "Deaths in 35-45 years age gaps are 196.0\n",
      "Deaths in 45-55 years age gaps are 286.0\n",
      "Deaths in 55-65 years age gaps are 432.0\n",
      "Deaths in 65     AND MORE years age gaps are 1176.0\n",
      "This is the graph of age vs death of the selected state\n"
     ]
    },
    {
     "data": {
      "image/png": "[encoded data removed]",
      "text/plain": [
       "<Figure size 720x360 with 1 Axes>"
      ]
     },
     "metadata": {
      "needs_background": "light"
     },
     "output_type": "display_data"
    },
    {
     "name": "stdout",
     "output_type": "stream",
     "text": [
      "Now here is the list of top 10 states acording to the deaths in USA\n",
      "[1]NEW  YORK\n",
      "[2]NEW JERSEY\n",
      "[3]MICHIGAN\n",
      "[4]MASSACHUSETTS\n",
      "[5]PENNSYLVANIA\n",
      "[6]LLLINOIS\n",
      "[7]CONNECTICUT\n",
      "[8]LOUISIANA\n",
      "[9]CALIFORNIA\n",
      "[10]FLORIDA\n",
      "[11]GEORGIA\n",
      "[12]WASHINGTON\n",
      "[13]MARYLAND\n",
      "[14]INDIANA\n",
      "[15]OHIO\n"
     ]
    }
   ],
   "source": [
    "loc= (\"C:\\\\Users\\\\Dell\\\\Desktop\\\\hackathon problem 1 excel file.xlsx\")\n",
    "print(\"Hello! Do you want to known which state in USA will be right to  study in this corona infected condition\")\n",
    "print(\"Than you are in perfect place\")\n",
    "print(\"Here you will know about the detail of deaths in states of USA\")\n",
    "wb=xlrd.open_workbook(loc)\n",
    "sheet=wb.sheet_by_index(0)\n",
    "print(\"These are the states where you must be likeing to to study\")\n",
    "print(sheet.col_values(0))\n",
    "r=sheet.nrows\n",
    "c=sheet.ncols\n",
    "n=int(input(\"Enter the number which has been assigned to the state where you want to study\"))\n",
    "print(\"These are the details of deaths of the selected state\")\n",
    "for i in range (1,c):\n",
    "    print(\"Deaths in\" ,sheet.cell_value(0,i),\"years age gaps are\",sheet.cell_value(n,i))\n",
    "print(\"This is the graph of age vs death of the selected state\")\n",
    "x=[sheet.cell_value(0,i) for i in range (1,c)]\n",
    "y=[sheet.cell_value(n,i) for i in range (1,c)]\n",
    "fig = plt.figure(figsize = (10, 5)) \n",
    "plt.bar(x, y, color ='red',width = 0.4) \n",
    "plt.plot(x,y)\n",
    "plt.xlabel('age gaps')\n",
    "plt.ylabel('deaths')\n",
    "plt.title('Selected state age vs death graph')\n",
    "plt.show()\n",
    "print (\"Now here is the list of top 10 states acording to the deaths in USA\")\n",
    "for i in range (1,16):\n",
    "    print(sheet.cell_value(i,0))"
   ]
  },
  {
   "cell_type": "code",
   "execution_count": null,
   "metadata": {},
   "outputs": [],
   "source": []
  }
 ],
 "metadata": {
  "kernelspec": {
   "display_name": "Python 3",
   "language": "python",
   "name": "python3"
  },
  "language_info": {
   "codemirror_mode": {
    "name": "ipython",
    "version": 3
   },
   "file_extension": ".py",
   "mimetype": "text/x-python",
   "name": "python",
   "nbconvert_exporter": "python",
   "pygments_lexer": "ipython3",
   "version": "3.7.6"
  }
 },
 "nbformat": 4,
 "nbformat_minor": 4
}
