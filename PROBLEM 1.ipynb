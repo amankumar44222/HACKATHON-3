{
 "cells": [
  {
   "cell_type": "code",
   "execution_count": 1,
   "metadata": {},
   "outputs": [
    {
     "name": "stdout",
     "output_type": "stream",
     "text": [
      "Enter the country which you are inrested for internship :\n",
      "India\n",
      "Current Covid19 case : 17615.0\n",
      "Total death till now : 559.0\n",
      "death per case : 3.1734317343173433\n",
      "The Country is in High risk\n",
      "Graph showing death rate\n"
     ]
    },
    {
     "data": {
      "image/png": "[encoded data removed]",
      "text/plain": [
       "<Figure size 432x288 with 1 Axes>"
      ]
     },
     "metadata": {
      "needs_background": "light"
     },
     "output_type": "display_data"
    }
   ],
   "source": [
    "# Problem stament one:Identity the countries as HIGH RISK TRAVEL destination countries for Internship or Project work for next two years.\n",
    "import xlrd\n",
    "import os\n",
    "import matplotlib.pyplot as plt \n",
    "def risk(country_cases,country_death):\n",
    "    print(\"Current Covid19 case :\",country_cases[-1])\n",
    "    print(\"Total death till now :\",country_death[-1])\n",
    "    death_ratio=(country_death[-1]/country_cases[-1])*100\n",
    "    print(\"death per case :\",death_ratio)\n",
    "    if(death_ratio >=2):\n",
    "        print(\"The Country is in High risk\")\n",
    "    else:\n",
    "        print(\"Country is till now safe\")\n",
    "def deathgraph(date,country_death,country):\n",
    "    country_death.pop(0)\n",
    "    plt.plot(date, country_death) \n",
    "    plt.xlabel('Dates')\n",
    "    plt.ylabel('Deaths')\n",
    "    plt.title('country')\n",
    "    plt.show()\n",
    "os.chdir('C:\\\\Users\\\\Dell\\\\Downloads')\n",
    "book1 = xlrd.open_workbook('C:\\\\Users\\\\Dell\\\\Downloads\\\\covidcase.xlsx')\n",
    "Totalcase=book1.sheet_by_index(0)\n",
    "book2 = xlrd.open_workbook('C:\\\\Users\\\\Dell\\\\Downloads\\\\coviddeath.xlsx')\n",
    "Totaldeath=book2.sheet_by_index(0)\n",
    "date= list(Totalcase.row_values(0))\n",
    "date.pop(0)\n",
    "print(\"Enter the country which you are inrested for internship :\")\n",
    "country=input()\n",
    "countries=list(Totalcase.col_values(0))\n",
    "i=0\n",
    "for a in countries:\n",
    "    if(a==country):\n",
    "        break\n",
    "    i=i+1\n",
    "country_cases=list(Totalcase.row_values(i))\n",
    "country_death=list(Totaldeath.row_values(i))\n",
    "risk(country_cases,country_death)\n",
    "print(\"Graph showing death rate\")\n",
    "deathgraph(date,country_death,country)"
   ]
  },
  {
   "cell_type": "code",
   "execution_count": null,
   "metadata": {},
   "outputs": [],
   "source": []
  }
 ],
 "metadata": {
  "kernelspec": {
   "display_name": "Python 3",
   "language": "python",
   "name": "python3"
  },
  "language_info": {
   "codemirror_mode": {
    "name": "ipython",
    "version": 3
   },
   "file_extension": ".py",
   "mimetype": "text/x-python",
   "name": "python",
   "nbconvert_exporter": "python",
   "pygments_lexer": "ipython3",
   "version": "3.7.6"
  }
 },
 "nbformat": 4,
 "nbformat_minor": 4
}
